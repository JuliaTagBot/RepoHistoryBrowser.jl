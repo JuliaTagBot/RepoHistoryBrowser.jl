{
 "metadata": {
  "language": "Julia",
  "name": "",
  "signature": "sha256:9ed35e12058c60730816f922c7051a4e35fb2b453c1a7027c3049a0d38909c34"
 },
 "nbformat": 3,
 "nbformat_minor": 0,
 "worksheets": [
  {
   "cells": [
    {
     "cell_type": "code",
     "collapsed": false,
     "input": [
      "using Interact"
     ],
     "language": "python",
     "metadata": {},
     "outputs": [],
     "prompt_number": 48
    },
    {
     "cell_type": "code",
     "collapsed": false,
     "input": [
      "commits = readlines(`git log --oneline`);\n",
      "hashes = ASCIIString[split(commit)[1] for commit in commits];"
     ],
     "language": "python",
     "metadata": {},
     "outputs": [],
     "prompt_number": 49
    },
    {
     "cell_type": "code",
     "collapsed": false,
     "input": [
      "function checkout_commit(hash::String, filename::String)\n",
      "    run(`git checkout $hash $filename`)\n",
      "end"
     ],
     "language": "python",
     "metadata": {},
     "outputs": [
      {
       "metadata": {},
       "output_type": "pyout",
       "prompt_number": 54,
       "text": [
        "checkout_commit (generic function with 2 methods)"
       ]
      }
     ],
     "prompt_number": 54
    },
    {
     "cell_type": "code",
     "collapsed": false,
     "input": [
      "filename = \"example_code/example.jl\""
     ],
     "language": "python",
     "metadata": {},
     "outputs": []
    },
    {
     "cell_type": "code",
     "collapsed": false,
     "input": [
      "# Concatenate two HTML representations\n",
      "# HTML is a type defined in Interact.jl\n",
      "+(a::HTML, b::HTML) = html(string(a.value, b.value))"
     ],
     "language": "python",
     "metadata": {},
     "outputs": [
      {
       "metadata": {},
       "output_type": "pyout",
       "prompt_number": 74,
       "text": [
        "+ (generic function with 118 methods)"
       ]
      }
     ],
     "prompt_number": 74
    },
    {
     "cell_type": "code",
     "collapsed": false,
     "input": [
      "@manipulate for n in 1:length(hashes)\n",
      "    checkout_commit(hashes[n], filename)\n",
      "    code = readall(`pygmentize -O full -f html -l julia $filename`);\n",
      "    html(commits[n]) + html(code)\n",
      "    \n",
      "end"
     ],
     "language": "python",
     "metadata": {},
     "outputs": [
      {
       "html": [],
       "metadata": {},
       "output_type": "display_data",
       "text": [
        "Slider{Int64}([Input{Int64}] 3,\"n\",3,1:5)"
       ]
      },
      {
       "html": [],
       "metadata": {},
       "output_type": "pyout",
       "prompt_number": 75,
       "text": [
        "HTML(\"\",\"1ae57b5 Added single-line example.jl\\n<!DOCTYPE html PUBLIC \\\"-//W3C//DTD HTML 4.01//EN\\\"\\n   \\\"http://www.w3.org/TR/html4/strict.dtd\\\">\\n\\n<html>\\n<head>\\n  <title></title>\\n  <meta http-equiv=\\\"content-type\\\" content=\\\"text/html; charset=UTF-8\\\">\\n  <style type=\\\"text/css\\\">\\ntd.linenos { background-color: #f0f0f0; padding-right: 10px; }\\nspan.lineno { background-color: #f0f0f0; padding: 0 5px 0 5px; }\\npre { line-height: 125%; }\\nbody .hll { background-color: #ffffcc }\\nbody  { background: #f8f8f8; }\\nbody .c { color: #408080; font-style: italic } /* Comment */\\nbody .err { border: 1px solid #FF0000 } /* Error */\\nbody .k { color: #008000; font-weight: bold } /* Keyword */\\nbody .o { color: #666666 } /* Operator */\\nbody .cm { color: #408080; font-style: italic } /* Comment.Multiline */\\nbody .cp { color: #BC7A00 } /* Comment.Preproc */\\nbody .c1 { color: #408080; font-style: italic } /* Comment.Single */\\nbody .cs { color: #408080; font-style: italic } /* Comment.Special */\\nbody .gd { color: #A00000 } /* Generic.Deleted */\\nbody .ge { font-style: italic } /* Generic.Emph */\\nbody .gr { color: #FF0000 } /* Generic.Error */\\nbody .gh { color: #000080; font-weight: bold } /* Generic.Heading */\\nbody .gi { color: #00A000 } /* Generic.Inserted */\\nbody .go { color: #888888 } /* Generic.Output */\\nbody .gp { color: #000080; font-weight: bold } /* Generic.Prompt */\\nbody .gs { font-weight: bold } /* Generic.Strong */\\nbody .gu { color: #800080; font-weight: bold } /* Generic.Subheading */\\nbody .gt { color: #0044DD } /* Generic.Traceback */\\nbody .kc { color: #008000; font-weight: bold } /* Keyword.Constant */\\nbody .kd { color: #008000; font-weight: bold } /* Keyword.Declaration */\\nbody .kn { color: #008000; font-weight: bold } /* Keyword.Namespace */\\nbody .kp { color: #008000 } /* Keyword.Pseudo */\\nbody .kr { color: #008000; font-weight: bold } /* Keyword.Reserved */\\nbody .kt { color: #B00040 } /* Keyword.Type */\\nbody .m { color: #666666 } /* Literal.Number */\\nbody .s { color: #BA2121 } /* Literal.String */\\nbody .na { color: #7D9029 } /* Name.Attribute */\\nbody .nb { color: #008000 } /* Name.Builtin */\\nbody .nc { color: #0000FF; font-weight: bold } /* Name.Class */\\nbody .no { color: #880000 } /* Name.Constant */\\nbody .nd { color: #AA22FF } /* Name.Decorator */\\nbody .ni { color: #999999; font-weight: bold } /* Name.Entity */\\nbody .ne { color: #D2413A; font-weight: bold } /* Name.Exception */\\nbody .nf { color: #0000FF } /* Name.Function */\\nbody .nl { color: #A0A000 } /* Name.Label */\\nbody .nn { color: #0000FF; font-weight: bold } /* Name.Namespace */\\nbody .nt { color: #008000; font-weight: bold } /* Name.Tag */\\nbody .nv { color: #19177C } /* Name.Variable */\\nbody .ow { color: #AA22FF; font-weight: bold } /* Operator.Word */\\nbody .w { color: #bbbbbb } /* Text.Whitespace */\\nbody .mb { color: #666666 } /* Literal.Number.Bin */\\nbody .mf { color: #666666 } /* Literal.Number.Float */\\nbody .mh { color: #666666 } /* Literal.Number.Hex */\\nbody .mi { color: #666666 } /* Literal.Number.Integer */\\nbody .mo { color: #666666 } /* Literal.Number.Oct */\\nbody .sb { color: #BA2121 } /* Literal.String.Backtick */\\nbody .sc { color: #BA2121 } /* Literal.String.Char */\\nbody .sd { color: #BA2121; font-style: italic } /* Literal.String.Doc */\\nbody .s2 { color: #BA2121 } /* Literal.String.Double */\\nbody .se { color: #BB6622; font-weight: bold } /* Literal.String.Escape */\\nbody .sh { color: #BA2121 } /* Literal.String.Heredoc */\\nbody .si { color: #BB6688; font-weight: bold } /* Literal.String.Interpol */\\nbody .sx { color: #008000 } /* Literal.String.Other */\\nbody .sr { color: #BB6688 } /* Literal.String.Regex */\\nbody .s1 { color: #BA2121 } /* Literal.String.Single */\\nbody .ss { color: #19177C } /* Literal.String.Symbol */\\nbody .bp { color: #008000 } /* Name.Builtin.Pseudo */\\nbody .vc { color: #19177C } /* Name.Variable.Class */\\nbody .vg { color: #19177C } /* Name.Variable.Global */\\nbody .vi { color: #19177C } /* Name.Variable.Instance */\\nbody .il { color: #666666 } /* Literal.Number.Integer.Long */\\n\\n  </style>\\n</head>\\n<body>\\n<h2></h2>\\n\\n<div class=\\\"highlight\\\"><pre><span class=\\\"n\\\">println</span><span class=\\\"p\\\">(</span><span class=\\\"s\\\">&quot;This is an example.&quot;</span><span class=\\\"p\\\">)</span>\\n</pre></div>\\n</body>\\n</html>\\n\")"
       ]
      }
     ],
     "prompt_number": 75
    }
   ],
   "metadata": {}
  }
 ]
}