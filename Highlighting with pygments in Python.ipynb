{
 "metadata": {
  "name": "",
  "signature": "sha256:4568d98bba813257528570687c531222bc2771f1f9e6b482e034a10e30bcd087"
 },
 "nbformat": 3,
 "nbformat_minor": 0,
 "worksheets": [
  {
   "cells": [
    {
     "cell_type": "code",
     "collapsed": false,
     "input": [
      "import pygments"
     ],
     "language": "python",
     "metadata": {},
     "outputs": [],
     "prompt_number": 2
    },
    {
     "cell_type": "code",
     "collapsed": false,
     "input": [
      "s = \"\"\"\n",
      "for i in 1:10\n",
      "    println(i)\n",
      "end\n",
      "\"\"\""
     ],
     "language": "python",
     "metadata": {},
     "outputs": [],
     "prompt_number": 6
    },
    {
     "cell_type": "code",
     "collapsed": false,
     "input": [
      "s"
     ],
     "language": "python",
     "metadata": {},
     "outputs": [
      {
       "metadata": {},
       "output_type": "pyout",
       "prompt_number": 5,
       "text": [
        "'\\nHola\\n'"
       ]
      }
     ],
     "prompt_number": 5
    },
    {
     "cell_type": "code",
     "collapsed": false,
     "input": [],
     "language": "python",
     "metadata": {},
     "outputs": []
    },
    {
     "cell_type": "code",
     "collapsed": false,
     "input": [
      "from pygments import highlight\n",
      "from pygments.lexers import PythonLexer, JuliaLexer\n",
      "from pygments.formatters import HtmlFormatter"
     ],
     "language": "python",
     "metadata": {},
     "outputs": [],
     "prompt_number": 23
    },
    {
     "cell_type": "markdown",
     "metadata": {},
     "source": [
      "Python:"
     ]
    },
    {
     "cell_type": "code",
     "collapsed": false,
     "input": [
      "code = \"\"\"\n",
      "def f(x):\n",
      "    return x*x\n",
      "\"\"\"\n",
      "\n",
      "h =  highlight(code, PythonLexer(), HtmlFormatter(full=True))"
     ],
     "language": "python",
     "metadata": {},
     "outputs": [],
     "prompt_number": 22
    },
    {
     "cell_type": "markdown",
     "metadata": {},
     "source": [
      "Julia:"
     ]
    },
    {
     "cell_type": "code",
     "collapsed": false,
     "input": [
      "code = \"\"\"function f(x):\n",
      "    println(\"Hello world\")\n",
      "    return x*x\n",
      "end\n",
      "\"\"\"\n",
      "\n",
      "h2 =  highlight(code, JuliaLexer(), HtmlFormatter(full=True))"
     ],
     "language": "python",
     "metadata": {},
     "outputs": [],
     "prompt_number": 34
    },
    {
     "cell_type": "code",
     "collapsed": false,
     "input": [
      "from IPython.display import HTML"
     ],
     "language": "python",
     "metadata": {},
     "outputs": [],
     "prompt_number": 10
    },
    {
     "cell_type": "code",
     "collapsed": false,
     "input": [
      "HTML(h)"
     ],
     "language": "python",
     "metadata": {},
     "outputs": [
      {
       "html": [
        "<!DOCTYPE html PUBLIC \"-//W3C//DTD HTML 4.01//EN\"\n",
        "   \"http://www.w3.org/TR/html4/strict.dtd\">\n",
        "\n",
        "<html>\n",
        "<head>\n",
        "  <title></title>\n",
        "  <meta http-equiv=\"content-type\" content=\"text/html; charset=None\">\n",
        "  <style type=\"text/css\">\n",
        "td.linenos { background-color: #f0f0f0; padding-right: 10px; }\n",
        "span.lineno { background-color: #f0f0f0; padding: 0 5px 0 5px; }\n",
        "pre { line-height: 125%; }\n",
        "body .hll { background-color: #ffffcc }\n",
        "body  { background: #f8f8f8; }\n",
        "body .c { color: #408080; font-style: italic } /* Comment */\n",
        "body .err { border: 1px solid #FF0000 } /* Error */\n",
        "body .k { color: #008000; font-weight: bold } /* Keyword */\n",
        "body .o { color: #666666 } /* Operator */\n",
        "body .cm { color: #408080; font-style: italic } /* Comment.Multiline */\n",
        "body .cp { color: #BC7A00 } /* Comment.Preproc */\n",
        "body .c1 { color: #408080; font-style: italic } /* Comment.Single */\n",
        "body .cs { color: #408080; font-style: italic } /* Comment.Special */\n",
        "body .gd { color: #A00000 } /* Generic.Deleted */\n",
        "body .ge { font-style: italic } /* Generic.Emph */\n",
        "body .gr { color: #FF0000 } /* Generic.Error */\n",
        "body .gh { color: #000080; font-weight: bold } /* Generic.Heading */\n",
        "body .gi { color: #00A000 } /* Generic.Inserted */\n",
        "body .go { color: #888888 } /* Generic.Output */\n",
        "body .gp { color: #000080; font-weight: bold } /* Generic.Prompt */\n",
        "body .gs { font-weight: bold } /* Generic.Strong */\n",
        "body .gu { color: #800080; font-weight: bold } /* Generic.Subheading */\n",
        "body .gt { color: #0044DD } /* Generic.Traceback */\n",
        "body .kc { color: #008000; font-weight: bold } /* Keyword.Constant */\n",
        "body .kd { color: #008000; font-weight: bold } /* Keyword.Declaration */\n",
        "body .kn { color: #008000; font-weight: bold } /* Keyword.Namespace */\n",
        "body .kp { color: #008000 } /* Keyword.Pseudo */\n",
        "body .kr { color: #008000; font-weight: bold } /* Keyword.Reserved */\n",
        "body .kt { color: #B00040 } /* Keyword.Type */\n",
        "body .m { color: #666666 } /* Literal.Number */\n",
        "body .s { color: #BA2121 } /* Literal.String */\n",
        "body .na { color: #7D9029 } /* Name.Attribute */\n",
        "body .nb { color: #008000 } /* Name.Builtin */\n",
        "body .nc { color: #0000FF; font-weight: bold } /* Name.Class */\n",
        "body .no { color: #880000 } /* Name.Constant */\n",
        "body .nd { color: #AA22FF } /* Name.Decorator */\n",
        "body .ni { color: #999999; font-weight: bold } /* Name.Entity */\n",
        "body .ne { color: #D2413A; font-weight: bold } /* Name.Exception */\n",
        "body .nf { color: #0000FF } /* Name.Function */\n",
        "body .nl { color: #A0A000 } /* Name.Label */\n",
        "body .nn { color: #0000FF; font-weight: bold } /* Name.Namespace */\n",
        "body .nt { color: #008000; font-weight: bold } /* Name.Tag */\n",
        "body .nv { color: #19177C } /* Name.Variable */\n",
        "body .ow { color: #AA22FF; font-weight: bold } /* Operator.Word */\n",
        "body .w { color: #bbbbbb } /* Text.Whitespace */\n",
        "body .mb { color: #666666 } /* Literal.Number.Bin */\n",
        "body .mf { color: #666666 } /* Literal.Number.Float */\n",
        "body .mh { color: #666666 } /* Literal.Number.Hex */\n",
        "body .mi { color: #666666 } /* Literal.Number.Integer */\n",
        "body .mo { color: #666666 } /* Literal.Number.Oct */\n",
        "body .sb { color: #BA2121 } /* Literal.String.Backtick */\n",
        "body .sc { color: #BA2121 } /* Literal.String.Char */\n",
        "body .sd { color: #BA2121; font-style: italic } /* Literal.String.Doc */\n",
        "body .s2 { color: #BA2121 } /* Literal.String.Double */\n",
        "body .se { color: #BB6622; font-weight: bold } /* Literal.String.Escape */\n",
        "body .sh { color: #BA2121 } /* Literal.String.Heredoc */\n",
        "body .si { color: #BB6688; font-weight: bold } /* Literal.String.Interpol */\n",
        "body .sx { color: #008000 } /* Literal.String.Other */\n",
        "body .sr { color: #BB6688 } /* Literal.String.Regex */\n",
        "body .s1 { color: #BA2121 } /* Literal.String.Single */\n",
        "body .ss { color: #19177C } /* Literal.String.Symbol */\n",
        "body .bp { color: #008000 } /* Name.Builtin.Pseudo */\n",
        "body .vc { color: #19177C } /* Name.Variable.Class */\n",
        "body .vg { color: #19177C } /* Name.Variable.Global */\n",
        "body .vi { color: #19177C } /* Name.Variable.Instance */\n",
        "body .il { color: #666666 } /* Literal.Number.Integer.Long */\n",
        "\n",
        "  </style>\n",
        "</head>\n",
        "<body>\n",
        "<h2></h2>\n",
        "\n",
        "<div class=\"highlight\"><pre><span class=\"k\">def</span> <span class=\"nf\">f</span><span class=\"p\">(</span><span class=\"n\">x</span><span class=\"p\">):</span>\n",
        "    <span class=\"k\">return</span> <span class=\"n\">x</span><span class=\"o\">*</span><span class=\"n\">x</span>\n",
        "</pre></div>\n",
        "</body>\n",
        "</html>\n"
       ],
       "metadata": {},
       "output_type": "pyout",
       "prompt_number": 30,
       "text": [
        "<IPython.core.display.HTML at 0x106e76f50>"
       ]
      }
     ],
     "prompt_number": 30
    },
    {
     "cell_type": "code",
     "collapsed": false,
     "input": [
      "HTML(h2)"
     ],
     "language": "python",
     "metadata": {},
     "outputs": [
      {
       "html": [
        "<!DOCTYPE html PUBLIC \"-//W3C//DTD HTML 4.01//EN\"\n",
        "   \"http://www.w3.org/TR/html4/strict.dtd\">\n",
        "\n",
        "<html>\n",
        "<head>\n",
        "  <title></title>\n",
        "  <meta http-equiv=\"content-type\" content=\"text/html; charset=None\">\n",
        "  <style type=\"text/css\">\n",
        "td.linenos { background-color: #f0f0f0; padding-right: 10px; }\n",
        "span.lineno { background-color: #f0f0f0; padding: 0 5px 0 5px; }\n",
        "pre { line-height: 125%; }\n",
        "body .hll { background-color: #ffffcc }\n",
        "body  { background: #f8f8f8; }\n",
        "body .c { color: #408080; font-style: italic } /* Comment */\n",
        "body .err { border: 1px solid #FF0000 } /* Error */\n",
        "body .k { color: #008000; font-weight: bold } /* Keyword */\n",
        "body .o { color: #666666 } /* Operator */\n",
        "body .cm { color: #408080; font-style: italic } /* Comment.Multiline */\n",
        "body .cp { color: #BC7A00 } /* Comment.Preproc */\n",
        "body .c1 { color: #408080; font-style: italic } /* Comment.Single */\n",
        "body .cs { color: #408080; font-style: italic } /* Comment.Special */\n",
        "body .gd { color: #A00000 } /* Generic.Deleted */\n",
        "body .ge { font-style: italic } /* Generic.Emph */\n",
        "body .gr { color: #FF0000 } /* Generic.Error */\n",
        "body .gh { color: #000080; font-weight: bold } /* Generic.Heading */\n",
        "body .gi { color: #00A000 } /* Generic.Inserted */\n",
        "body .go { color: #888888 } /* Generic.Output */\n",
        "body .gp { color: #000080; font-weight: bold } /* Generic.Prompt */\n",
        "body .gs { font-weight: bold } /* Generic.Strong */\n",
        "body .gu { color: #800080; font-weight: bold } /* Generic.Subheading */\n",
        "body .gt { color: #0044DD } /* Generic.Traceback */\n",
        "body .kc { color: #008000; font-weight: bold } /* Keyword.Constant */\n",
        "body .kd { color: #008000; font-weight: bold } /* Keyword.Declaration */\n",
        "body .kn { color: #008000; font-weight: bold } /* Keyword.Namespace */\n",
        "body .kp { color: #008000 } /* Keyword.Pseudo */\n",
        "body .kr { color: #008000; font-weight: bold } /* Keyword.Reserved */\n",
        "body .kt { color: #B00040 } /* Keyword.Type */\n",
        "body .m { color: #666666 } /* Literal.Number */\n",
        "body .s { color: #BA2121 } /* Literal.String */\n",
        "body .na { color: #7D9029 } /* Name.Attribute */\n",
        "body .nb { color: #008000 } /* Name.Builtin */\n",
        "body .nc { color: #0000FF; font-weight: bold } /* Name.Class */\n",
        "body .no { color: #880000 } /* Name.Constant */\n",
        "body .nd { color: #AA22FF } /* Name.Decorator */\n",
        "body .ni { color: #999999; font-weight: bold } /* Name.Entity */\n",
        "body .ne { color: #D2413A; font-weight: bold } /* Name.Exception */\n",
        "body .nf { color: #0000FF } /* Name.Function */\n",
        "body .nl { color: #A0A000 } /* Name.Label */\n",
        "body .nn { color: #0000FF; font-weight: bold } /* Name.Namespace */\n",
        "body .nt { color: #008000; font-weight: bold } /* Name.Tag */\n",
        "body .nv { color: #19177C } /* Name.Variable */\n",
        "body .ow { color: #AA22FF; font-weight: bold } /* Operator.Word */\n",
        "body .w { color: #bbbbbb } /* Text.Whitespace */\n",
        "body .mb { color: #666666 } /* Literal.Number.Bin */\n",
        "body .mf { color: #666666 } /* Literal.Number.Float */\n",
        "body .mh { color: #666666 } /* Literal.Number.Hex */\n",
        "body .mi { color: #666666 } /* Literal.Number.Integer */\n",
        "body .mo { color: #666666 } /* Literal.Number.Oct */\n",
        "body .sb { color: #BA2121 } /* Literal.String.Backtick */\n",
        "body .sc { color: #BA2121 } /* Literal.String.Char */\n",
        "body .sd { color: #BA2121; font-style: italic } /* Literal.String.Doc */\n",
        "body .s2 { color: #BA2121 } /* Literal.String.Double */\n",
        "body .se { color: #BB6622; font-weight: bold } /* Literal.String.Escape */\n",
        "body .sh { color: #BA2121 } /* Literal.String.Heredoc */\n",
        "body .si { color: #BB6688; font-weight: bold } /* Literal.String.Interpol */\n",
        "body .sx { color: #008000 } /* Literal.String.Other */\n",
        "body .sr { color: #BB6688 } /* Literal.String.Regex */\n",
        "body .s1 { color: #BA2121 } /* Literal.String.Single */\n",
        "body .ss { color: #19177C } /* Literal.String.Symbol */\n",
        "body .bp { color: #008000 } /* Name.Builtin.Pseudo */\n",
        "body .vc { color: #19177C } /* Name.Variable.Class */\n",
        "body .vg { color: #19177C } /* Name.Variable.Global */\n",
        "body .vi { color: #19177C } /* Name.Variable.Instance */\n",
        "body .il { color: #666666 } /* Literal.Number.Integer.Long */\n",
        "\n",
        "  </style>\n",
        "</head>\n",
        "<body>\n",
        "<h2></h2>\n",
        "\n",
        "<div class=\"highlight\"><pre><span class=\"k\">function</span><span class=\"nf\"> f</span><span class=\"p\">(</span><span class=\"n\">x</span><span class=\"p\">):</span>\n",
        "    <span class=\"n\">println</span><span class=\"p\">(</span><span class=\"s\">&quot;Hello world&quot;</span><span class=\"p\">)</span>\n",
        "    <span class=\"k\">return</span> <span class=\"n\">x</span><span class=\"o\">*</span><span class=\"n\">x</span>\n",
        "<span class=\"k\">end</span>\n",
        "</pre></div>\n",
        "</body>\n",
        "</html>\n"
       ],
       "metadata": {},
       "output_type": "pyout",
       "prompt_number": 35,
       "text": [
        "<IPython.core.display.HTML at 0x106e76f10>"
       ]
      }
     ],
     "prompt_number": 35
    },
    {
     "cell_type": "code",
     "collapsed": false,
     "input": [
      "?HtmlFormatter"
     ],
     "language": "python",
     "metadata": {},
     "outputs": [],
     "prompt_number": 16
    },
    {
     "cell_type": "code",
     "collapsed": false,
     "input": [],
     "language": "python",
     "metadata": {},
     "outputs": [],
     "prompt_number": 16
    },
    {
     "cell_type": "code",
     "collapsed": false,
     "input": [],
     "language": "python",
     "metadata": {},
     "outputs": []
    }
   ],
   "metadata": {}
  }
 ]
}