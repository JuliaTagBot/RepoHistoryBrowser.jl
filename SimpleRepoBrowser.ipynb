{
 "metadata": {
  "language": "Julia",
  "name": "",
  "signature": "sha256:43697056155ae77594c9b2c35eba99583ab46f4493c38d80096d502166427413"
 },
 "nbformat": 3,
 "nbformat_minor": 0,
 "worksheets": [
  {
   "cells": [
    {
     "cell_type": "code",
     "collapsed": false,
     "input": [
      "include(\"repobrowser.jl\")"
     ],
     "language": "python",
     "metadata": {},
     "outputs": []
    }
   ],
   "metadata": {}
  }
 ]
}